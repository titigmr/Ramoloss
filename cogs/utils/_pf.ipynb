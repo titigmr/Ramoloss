{
 "metadata": {
  "language_info": {
   "codemirror_mode": {
    "name": "ipython",
    "version": 3
   },
   "file_extension": ".py",
   "mimetype": "text/x-python",
   "name": "python",
   "nbconvert_exporter": "python",
   "pygments_lexer": "ipython3",
   "version": "3.9.4-final"
  },
  "orig_nbformat": 2,
  "kernelspec": {
   "name": "python39464bitdiscordconda4383271dc44642d7b2f9f9fb43657b27",
   "display_name": "Python 3.9.4 64-bit ('discord': conda)"
  }
 },
 "nbformat": 4,
 "nbformat_minor": 2,
 "cells": [
  {
   "cell_type": "code",
   "execution_count": 2,
   "metadata": {},
   "outputs": [],
   "source": [
    "from PIL import Image\n",
    "\n",
    "coins = Image.open('_img/coin_sheet.png')"
   ]
  },
  {
   "cell_type": "code",
   "execution_count": 4,
   "metadata": {},
   "outputs": [],
   "source": [
    "slide_down_x = 0\n",
    "slide_down_y = 150\n",
    "list_coin = []\n",
    "position = 0\n",
    "\n",
    "while True:\n",
    "    get_coin = coins.crop((0, slide_down_x, 150, slide_down_y))\n",
    "    get_coin.info[\"transparency\"] = 0\n",
    "    get_coin.save(f\"_img/{position}.png\")\n",
    "    position += 1\n",
    "    list_coin.append(get_coin)\n",
    "    slide_down_x += coins.width\n",
    "    slide_down_y += coins.width\n",
    "    if slide_down_y >= coins.height:\n",
    "        break"
   ]
  },
  {
   "cell_type": "code",
   "execution_count": 10,
   "metadata": {},
   "outputs": [],
   "source": [
    "for duration in [10, 100, 1000]:\n",
    "    list_coin[0].save(f\"_img/{duration}_pf.gif\", save_all=True, \n",
    "                        append_images=list_coin[1:],\n",
    "                        duration=duration,loop=0)"
   ]
  },
  {
   "cell_type": "code",
   "execution_count": null,
   "metadata": {},
   "outputs": [],
   "source": []
  }
 ]
}